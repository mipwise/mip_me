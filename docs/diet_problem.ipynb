{
 "cells": [
  {
   "cell_type": "markdown",
   "metadata": {},
   "source": [
    "# Diet Problem\n",
    "The *Diet Problem*, also known as *Stigler diet*, is a classic \n",
    "optimization problem widely used to illustrate a use case\n",
    "of linear programming. You can find much more details on Wikipedia: \n",
    "[Stigler Diet](https://en.wikipedia.org/wiki/Stigler_diet)\n",
    "\n",
    "Here is a short statement of the problem:\n",
    "\n",
    "*Given a set of foods and a set of nutrients, the goal is to \n",
    "make a selection of food and the respective quantity to compose \n",
    "the least expensive diet that meets min and max recommended \n",
    "intake of nutrients.*"
   ]
  },
  {
   "cell_type": "markdown",
   "metadata": {},
   "source": [
    "## Formulation\n",
    "The diet problem can be formulated as a linear program (LP). Unless we require the portion of each food to be a whole number (for example, if eggs are part of the diet, $2.5$ egges might not be acceptable), in which case we need to introduce integer decision variables."
   ]
  },
  {
   "cell_type": "markdown",
   "metadata": {},
   "source": [
    "### Input Data Model\n",
    "\n",
    "#### Set of indices\n",
    "- $I$ - Set of foods.  \n",
    "- $J$ - Set of nutrients.\n",
    "\n",
    "#### Parameters\n",
    "* $c_i$ - Per unit cost of food $i$.\n",
    "* $nl_j$ - Minimum intake of nutrient $j$.\n",
    "* $nu_j$ - Maximum intake of nutrient $j$.\n",
    "* $nq_{ij}$ - Quantity of nutrient $j$ obtained from food $i$."
   ]
  },
  {
   "cell_type": "markdown",
   "metadata": {},
   "source": [
    "### Decision Variables\n",
    "The only decision to make here is the amount of each food that will compose the diet.\n",
    "- $x_i$\t- Amount of food $i$ to be consumed."
   ]
  },
  {
   "cell_type": "markdown",
   "metadata": {},
   "source": [
    "### Constraints\n",
    "The only constraint of the diet problem is to ensure that the intake of each nutrient $j$ is within the recommended range, which we split into two constraints.\n",
    "* C1) Ensure minimum recommended intake of nutrients:\n",
    "$$\\sum_i nq_{ij}x_i \\geq nl_j, \\quad \\forall j.$$\n",
    "\n",
    "* C2) Ensure maximum recommended intake of nutrients:\n",
    "$$\\sum_i nq_{ij}x_i \\leq nu_j, \\quad \\forall j.$$"
   ]
  },
  {
   "cell_type": "markdown",
   "metadata": {},
   "source": [
    "### Objective\n",
    "The objective is to minimize the total cost of the diet.\n",
    "$$\\min{\\sum_i c_ix_i}.$$"
   ]
  },
  {
   "cell_type": "markdown",
   "metadata": {},
   "source": [
    "### Final formulation\n",
    "$$\n",
    "\\begin{eqnarray}\n",
    "\\begin{array}{rcl}\n",
    "& \\min & \\sum_i c_ix_i\\\\\n",
    "& \\text{s.t.}& \\sum_i nq_{ij}x_i \\geq nl_j, \\quad \\forall j,\\\\\n",
    "&& \\sum_i nq_{ij}x_i \\leq nu_j, \\quad \\forall j,\\\\\n",
    "&& x_i \\geq 0, \\quad \\forall i.\n",
    "\\end{array}\n",
    "\\end{eqnarray}\n",
    "$$"
   ]
  }
 ],
 "metadata": {
  "kernelspec": {
   "display_name": "Python 3 (ipykernel)",
   "language": "python",
   "name": "python3"
  },
  "language_info": {
   "codemirror_mode": {
    "name": "ipython",
    "version": 3
   },
   "file_extension": ".py",
   "mimetype": "text/x-python",
   "name": "python",
   "nbconvert_exporter": "python",
   "pygments_lexer": "ipython3",
   "version": "3.9.5"
  }
 },
 "nbformat": 4,
 "nbformat_minor": 2
}
